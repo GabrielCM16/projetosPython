{
  "nbformat": 4,
  "nbformat_minor": 0,
  "metadata": {
    "colab": {
      "provenance": []
    },
    "kernelspec": {
      "name": "python3",
      "display_name": "Python 3"
    },
    "language_info": {
      "name": "python"
    }
  },
  "cells": [
    {
      "cell_type": "code",
      "execution_count": null,
      "metadata": {
        "id": "nZWJ_MvWkA_o"
      },
      "outputs": [],
      "source": [
        "#FILA FIFO\n",
        "\n",
        "def fila_nova(): #cria uma fila nova\n",
        "  return []\n",
        "\n",
        "def fila_enqueue(elemento, fila): #coloca na ultima posiçao da fila\n",
        "  fila.append(elemento)\n",
        "\n",
        "def fila_dequeue(fila): #retira primeiro elemento da fila\n",
        "  return fila.pop(0)\n",
        "\n",
        "def fila_vazia(fila):\n",
        "  if len(fila) == 0:\n",
        "    return True\n",
        "  return False"
      ]
    },
    {
      "cell_type": "code",
      "source": [
        "import time\n",
        "import names\n",
        "\n",
        "n = 10\n",
        "\n",
        "fila = fila_nova()\n",
        "\n",
        "# fila_enqueue(\"Carlos\", fila)\n",
        "# fila_enqueue(\"Cinthia\", fila)\n",
        "# fila_enqueue(\"Odair\", fila)\n",
        "\n",
        "\n",
        "for i in range(n):\n",
        "  fila_enqueue(names.get_full_name(), fila)\n",
        "\n",
        "\n",
        "while not fila_vazia(fila):\n",
        "  proximo = fila_dequeue(fila)\n",
        "  print(f'Proximo: {proximo}')\n",
        "  # time.sleep(3)"
      ],
      "metadata": {
        "colab": {
          "base_uri": "https://localhost:8080/"
        },
        "id": "RvWIYeA5kkcy",
        "outputId": "a1697edc-4e9f-47e9-ded8-9fafbd1c0850"
      },
      "execution_count": null,
      "outputs": [
        {
          "output_type": "stream",
          "name": "stdout",
          "text": [
            "Proximo: Shellie Gill\n",
            "Proximo: Marian Shackleford\n",
            "Proximo: Kent Robley\n",
            "Proximo: Sean Thomas\n",
            "Proximo: Jacob Fesperman\n",
            "Proximo: William Conkling\n",
            "Proximo: Amos Friesenhahn\n",
            "Proximo: Donna James\n",
            "Proximo: Matthew King\n",
            "Proximo: George Higgins\n"
          ]
        }
      ]
    },
    {
      "cell_type": "code",
      "source": [
        "!pip3 install names"
      ],
      "metadata": {
        "colab": {
          "base_uri": "https://localhost:8080/"
        },
        "id": "t44b8f83o0rB",
        "outputId": "483b9acc-eb08-443b-9741-213977349d8f"
      },
      "execution_count": null,
      "outputs": [
        {
          "output_type": "stream",
          "name": "stdout",
          "text": [
            "Looking in indexes: https://pypi.org/simple, https://us-python.pkg.dev/colab-wheels/public/simple/\n",
            "Collecting names\n",
            "  Downloading names-0.3.0.tar.gz (789 kB)\n",
            "\u001b[K     |████████████████████████████████| 789 kB 6.0 MB/s \n",
            "\u001b[?25hBuilding wheels for collected packages: names\n",
            "  Building wheel for names (setup.py) ... \u001b[?25l\u001b[?25hdone\n",
            "  Created wheel for names: filename=names-0.3.0-py3-none-any.whl size=803699 sha256=86d14ed2c1cfc29c566f8346c5bb09bb2eddbbe6a1106891cf4baed68c6f3c21\n",
            "  Stored in directory: /root/.cache/pip/wheels/05/ea/68/92f6b0669e478af9b7c3c524520d03050089e034edcc775c2b\n",
            "Successfully built names\n",
            "Installing collected packages: names\n",
            "Successfully installed names-0.3.0\n"
          ]
        }
      ]
    },
    {
      "cell_type": "code",
      "source": [
        "#PILHA FILO\n",
        "\n",
        "\n",
        "def pilha_nova(): #cria uma pilha nova\n",
        "  return []\n",
        "\n",
        "def pilha_push(elemento, pilha): #coloca na ultima posiçao da pilha\n",
        "  pilha.append(elemento)\n",
        "\n",
        "def pilha_pop(pilha): #retira ultimo elemento da pilha\n",
        "  return pilha.pop()\n",
        "\n",
        "def pilha_vazia(pilha):\n",
        "  if len(pilha) == 0:\n",
        "    return True\n",
        "  return False"
      ],
      "metadata": {
        "id": "p0fCQFGeo4EJ"
      },
      "execution_count": null,
      "outputs": []
    },
    {
      "cell_type": "code",
      "source": [],
      "metadata": {
        "id": "zHRy3KsxsfTQ"
      },
      "execution_count": null,
      "outputs": []
    },
    {
      "cell_type": "code",
      "source": [],
      "metadata": {
        "id": "a4hT2D-wuoXK"
      },
      "execution_count": null,
      "outputs": []
    },
    {
      "cell_type": "code",
      "source": [
        "\n",
        "\n",
        "def valida_parenteses(expressao):\n",
        "  parente = list()\n",
        "\n",
        "  pilha = pilha_nova() #cria a pilha nova\n",
        "\n",
        "  #coloca em uma lista só (){}[]\n",
        "  validos = '(){}[]'\n",
        "  for i in expressao:\n",
        "    if i in validos:\n",
        "      parente.append(i)\n",
        "\n",
        "  print(parente) #printa essa lista\n",
        "\n",
        "  for i in parente:\n",
        "    if i == '(' or i == '{' or i == '[':\n",
        "      pilha_push(i, pilha)\n",
        "\n",
        "    if i == ')' or i == '}' or i == ']':\n",
        "      if pilha_vazia(pilha):\n",
        "        return False\n",
        "\n",
        "      else :\n",
        "        pop_agora = pilha_pop(pilha)\n",
        "\n",
        "\n",
        "\n",
        "  if pilha_vazia(pilha):\n",
        "    return True\n",
        "  else: return False\n",
        "\n",
        "\n",
        "\n",
        "\n",
        "\n",
        "valida_parenteses('(a()+b*(2-c)-2+a*2)')\n",
        "\n"
      ],
      "metadata": {
        "colab": {
          "base_uri": "https://localhost:8080/"
        },
        "id": "av-6UDYnuoZf",
        "outputId": "2711ccff-9a56-4cfc-a2ce-bcbece8db813"
      },
      "execution_count": null,
      "outputs": [
        {
          "output_type": "stream",
          "name": "stdout",
          "text": [
            "['(', '(', ')', '(', ')', ')']\n"
          ]
        },
        {
          "output_type": "execute_result",
          "data": {
            "text/plain": [
              "True"
            ]
          },
          "metadata": {},
          "execution_count": 5
        }
      ]
    },
    {
      "cell_type": "code",
      "source": [
        "\n",
        "\n",
        "def valida_parenteses(expressao):\n",
        "  parente = list()\n",
        "\n",
        "  pilha_parente = pilha_nova() #cria a pilha nova\n",
        "  pilha_colchetes = pilha_nova() #cria a pilha nova\n",
        "  pilha_chaves = pilha_nova() #cria a pilha nova\n",
        "\n",
        "  #coloca em uma lista só (){}[]\n",
        "  validos = '(){}[]'\n",
        "  for i in expressao:\n",
        "    if i in validos:\n",
        "      parente.append(i)\n",
        "\n",
        "  print(parente) #printa essa lista\n",
        "\n",
        "  for i in parente:\n",
        "    if i == '(':\n",
        "      pilha_push(i, pilha_parente)\n",
        "\n",
        "    if i == '{':\n",
        "      pilha_push(i, pilha_chaves)\n",
        "\n",
        "    if i == '[':\n",
        "      pilha_push(i, pilha_colchetes)\n",
        "\n",
        "\n",
        "    if i == ')':\n",
        "      if pilha_vazia(pilha_parente):\n",
        "        return False\n",
        "      else :\n",
        "        pop_agora = pilha_pop(pilha_parente)\n",
        "\n",
        "\n",
        "    if i == '}':\n",
        "      if pilha_vazia(pilha_chaves):\n",
        "        return False\n",
        "      else :\n",
        "        pop_agora = pilha_pop(pilha_chaves)\n",
        "\n",
        "    if i == ']':\n",
        "      if pilha_vazia(pilha_colchetes):\n",
        "        return False\n",
        "\n",
        "      else :\n",
        "        pop_agora = pilha_pop(pilha_colchetes)\n",
        "\n",
        "\n",
        "\n",
        "  if pilha_vazia(pilha_parente) and pilha_vazia(pilha_colchetes) and pilha_vazia(pilha_chaves):\n",
        "    return True\n",
        "  else: return False\n",
        "\n",
        "\n",
        "\n",
        "\n",
        "\n",
        "valida_parenteses('[(]a()+b*([2-]c)-{2+a*2})')\n",
        "\n"
      ],
      "metadata": {
        "id": "URruMZ1avpX0",
        "colab": {
          "base_uri": "https://localhost:8080/"
        },
        "outputId": "2a67730c-6269-4e25-ba81-016bc9d580b5"
      },
      "execution_count": null,
      "outputs": [
        {
          "output_type": "stream",
          "name": "stdout",
          "text": [
            "['[', '(', ']', '(', ')', '(', '[', ']', ')', '{', '}', ')']\n"
          ]
        },
        {
          "output_type": "execute_result",
          "data": {
            "text/plain": [
              "True"
            ]
          },
          "metadata": {},
          "execution_count": 17
        }
      ]
    },
    {
      "cell_type": "code",
      "source": [
        "\n",
        "\n",
        "def valida_parenteses(expressao):\n",
        "  parente = list()\n",
        "\n",
        "  pilha = pilha_nova() #cria a pilha nova\n",
        "\n",
        "  #coloca em uma lista só (){}[]\n",
        "  validos = '(){}[]'\n",
        "  for i in expressao:\n",
        "    if i in validos:\n",
        "      parente.append(i)\n",
        "\n",
        "  print(parente) #printa essa lista\n",
        "\n",
        "  for i in parente:\n",
        "    if i == '(' or i == '{' or i == '[':\n",
        "      pilha_push(i, pilha)\n",
        "\n",
        "    else:\n",
        "      if pilha_vazia(pilha):\n",
        "        return False\n",
        "\n",
        "      else :\n",
        "        pop_agora = pilha.pop()\n",
        "        print(pop_agora)\n",
        "        print(i)\n",
        "\n",
        "        if i == '(' and pop_agora == ')':\n",
        "          continue\n",
        "\n",
        "        if i == '{' and pop_agora == '}':\n",
        "          continue\n",
        "\n",
        "        if i == '[' and pop_agora == ']':\n",
        "          continue\n",
        "\n",
        "        else :\n",
        "          print('HUM')\n",
        "          return False\n",
        "\n",
        "\n",
        "  if pilha_vazia(pilha):\n",
        "    return True\n",
        "  else: return False\n",
        "\n",
        "\n",
        "\n",
        "\n",
        "\n",
        "valida_parenteses('(a+b*(2-c)-2+a*2)')\n",
        "\n"
      ],
      "metadata": {
        "colab": {
          "base_uri": "https://localhost:8080/"
        },
        "id": "-BerTtfffmek",
        "outputId": "76f3bf85-5cea-4d4f-a576-ba7a9f6974b7"
      },
      "execution_count": null,
      "outputs": [
        {
          "output_type": "stream",
          "name": "stdout",
          "text": [
            "['(', '(', ')', ')']\n",
            "(\n",
            ")\n",
            "HUM\n"
          ]
        },
        {
          "output_type": "execute_result",
          "data": {
            "text/plain": [
              "False"
            ]
          },
          "metadata": {},
          "execution_count": 32
        }
      ]
    },
    {
      "cell_type": "code",
      "source": [],
      "metadata": {
        "id": "R7BoYJ0Oib-H"
      },
      "execution_count": null,
      "outputs": []
    },
    {
      "cell_type": "code",
      "source": [
        "entrada = '552*+'\n",
        "op_validos = '+-*/'\n",
        "num_validos = '0123456789'\n",
        "pilha_numeros = pilha_nova() #cria a pilha nova\n",
        "\n",
        "\n",
        "for i in entrada:\n",
        "\n",
        "  if i in num_validos:\n",
        "    pilha_push(i, pilha_numeros)\n",
        "\n",
        "  if i in op_validos:\n",
        "    num1 = pilha_numeros.pop()\n",
        "    num2 = pilha_numeros.pop()\n",
        "    num1 = int(num1)\n",
        "    num2 = int(num2)\n",
        "\n",
        "    if i == '+':\n",
        "      resul = num1 + num2\n",
        "      pilha_push(resul, pilha_numeros)\n",
        "\n",
        "    if i == '-':\n",
        "      resul = num1 - num2\n",
        "      pilha_push(resul, pilha_numeros)\n",
        "\n",
        "    if i == '*':\n",
        "      resul = num1 * num2\n",
        "      pilha_push(resul, pilha_numeros)\n",
        "\n",
        "    if i == '/':\n",
        "      resul = num1 / num2\n",
        "      pilha_push(resul, pilha_numeros)\n",
        "\n",
        "\n",
        "\n",
        "print(pilha_numeros)"
      ],
      "metadata": {
        "colab": {
          "base_uri": "https://localhost:8080/"
        },
        "id": "dYtX8G42lu-W",
        "outputId": "b1316d0b-0292-4a5b-af4c-10d397758279"
      },
      "execution_count": null,
      "outputs": [
        {
          "output_type": "stream",
          "name": "stdout",
          "text": [
            "[11]\n"
          ]
        }
      ]
    },
    {
      "cell_type": "code",
      "source": [],
      "metadata": {
        "id": "8IC-orP2nGcd"
      },
      "execution_count": null,
      "outputs": []
    }
  ]
}