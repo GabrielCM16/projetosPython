{
  "nbformat": 4,
  "nbformat_minor": 0,
  "metadata": {
    "colab": {
      "provenance": []
    },
    "kernelspec": {
      "name": "python3",
      "display_name": "Python 3"
    },
    "language_info": {
      "name": "python"
    }
  },
  "cells": [
    {
      "cell_type": "markdown",
      "source": [
        "**algoritimos de busca**"
      ],
      "metadata": {
        "id": "x_e0t55W4_T1"
      }
    },
    {
      "cell_type": "code",
      "execution_count": null,
      "metadata": {
        "id": "_ChSAnwM33qX"
      },
      "outputs": [],
      "source": [
        "#Busca sequencial\n",
        "def Busca_sequencial(lista, num):\n",
        "  for i in range(len(lista)):\n",
        "    if lista[i] == num:\n",
        "        return lista[i], i\n"
      ]
    },
    {
      "cell_type": "code",
      "source": [
        "#Busca binaria\n",
        "def Busca_binaria(lista, num):\n",
        "  inicio = 0\n",
        "  fim = len(lista) - 1\n",
        "  meio = (inicio - fim) // 2\n",
        "\n",
        "  while inicio <= fim:\n",
        "    meio = (inicio + fim) // 2\n",
        "\n",
        "    if lista[meio] == num:\n",
        "      return lista[meio], meio\n",
        "\n",
        "    if num < lista[meio]:\n",
        "      fim -= 1\n",
        "\n",
        "    else: inicio += 1\n",
        "\n",
        "  return False\n",
        "\n"
      ],
      "metadata": {
        "id": "6Lb8zY2F4I3j"
      },
      "execution_count": null,
      "outputs": []
    },
    {
      "cell_type": "code",
      "source": [
        "lista = [90,15,28,2,70,45,22,123,456]\n",
        "lista_ordenada = sorted(lista)\n",
        "\n",
        "Busca_binaria(lista, 456)\n",
        "\n",
        "Busca_sequencial(lista_ordenada, 456)"
      ],
      "metadata": {
        "id": "WBr3bnBr4dVx"
      },
      "execution_count": null,
      "outputs": []
    },
    {
      "cell_type": "markdown",
      "source": [
        "**algoritimos de ordenacao**"
      ],
      "metadata": {
        "id": "s-dfh5yp45vN"
      }
    },
    {
      "cell_type": "code",
      "source": [
        "#bubble_sort\n",
        "def bubble_sort(dados):\n",
        "    for _ in range(len(dados)-1):\n",
        "      for i in range(len(dados)-1-_):\n",
        "        if dados[i] > dados[i+1]:\n",
        "          dados[i], dados[i+1] = dados[i+1], dados[i]\n",
        "\n"
      ],
      "metadata": {
        "id": "q1On93cm4eW-"
      },
      "execution_count": null,
      "outputs": []
    },
    {
      "cell_type": "code",
      "source": [
        "#insertion_sort\n",
        "def insertion_sort(dados):\n",
        "   for i in range(1,len(dados)):\n",
        "      j =  i\n",
        "      while dados[j] < dados[j-1] and j > 0:\n",
        "        dados[j], dados[j-1] = dados[j-1], dados[j]\n",
        "        j -= 1\n",
        "\n"
      ],
      "metadata": {
        "id": "jeQSJBCR41Wd"
      },
      "execution_count": null,
      "outputs": []
    },
    {
      "cell_type": "code",
      "source": [
        "#selection_sort\n",
        "def selection_sort(dados):\n",
        "  for i in range(len(dados)):\n",
        "    menor = dados[i]\n",
        "    pos_menor = i\n",
        "    for j in range(i+1, len(dados)):\n",
        "      if dados[j] < menor:\n",
        "        menor = dados[j]\n",
        "        pos_menor = j\n",
        "\n",
        "    dados[i], dados[pos_menor] = dados[pos_menor], dados[i]\n",
        "\n",
        "  return dados\n",
        "\n",
        "\n",
        "lista = [10,5,4,14,13,6]\n",
        "selection_sort(lista)"
      ],
      "metadata": {
        "id": "V0F9G8xI5kVe"
      },
      "execution_count": null,
      "outputs": []
    },
    {
      "cell_type": "code",
      "source": [
        "def merge(d1,d2):\n",
        "  lista_resul = list()\n",
        "  while d1 or d2:\n",
        "    if d1 and d2:\n",
        "      if d1[0] < d2[0]:\n",
        "        lista_resul.append(d1.pop(0))\n",
        "\n",
        "      else: lista_resul.append(d2.pop(0))\n",
        "\n",
        "    else:\n",
        "       lista_resul.extend(d1+d2)\n",
        "       break\n",
        "\n",
        "  return lista_resul\n",
        "\n",
        "\n",
        "def merge_sort(dados):\n",
        "  if len(dados) < 2:\n",
        "    return dados\n",
        "  else:\n",
        "    meio = len(dados) // 2\n",
        "    return merge(merge_sort(dados[:meio]), merge_sort(dados[meio:]))"
      ],
      "metadata": {
        "id": "qudVyVRpL-ib"
      },
      "execution_count": null,
      "outputs": []
    },
    {
      "cell_type": "code",
      "source": [
        "d1 = [5,7,9,11]\n",
        "d2 = [4,6,10,11]\n",
        "dd = [5,4,7,6,9,10,11]\n",
        "\n",
        "merge_sort(dd)\n",
        "\n"
      ],
      "metadata": {
        "id": "PFVC9mkgnhyM"
      },
      "execution_count": null,
      "outputs": []
    }
  ]
}